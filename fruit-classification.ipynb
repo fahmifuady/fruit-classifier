{
  "nbformat": 4,
  "nbformat_minor": 0,
  "metadata": {
    "colab": {
      "provenance": []
    },
    "kernelspec": {
      "name": "python3",
      "display_name": "Python 3"
    },
    "accelerator": "GPU"
  },
  "cells": [
    {
      "cell_type": "code",
      "metadata": {
        "id": "sYV6goMjYzBE",
        "colab": {
          "base_uri": "https://localhost:8080/",
          "height": 541
        },
        "outputId": "cb7a0fe5-bfa2-4c2a-be91-44a054d58b87"
      },
      "source": [
        "# kaggle setting / upload API Token\n",
        "!pip install -q kaggle\n",
        "from google.colab import files\n",
        "files.upload()\n",
        "!mkdir ~/.kaggle\n",
        "!cp kaggle.json ~/.kaggle/\n",
        "!chmod 600 ~/.kaggle/kaggle.json\n",
        "! kaggle datasets list\n",
        "\n",
        "\n",
        "# download dataset dari https://www.kaggle.com/sshikamaru/fruit-recognition\n",
        "!kaggle datasets download -d sshikamaru/fruit-recognition"
      ],
      "execution_count": null,
      "outputs": [
        {
          "output_type": "display_data",
          "data": {
            "text/plain": [
              "<IPython.core.display.HTML object>"
            ],
            "text/html": [
              "\n",
              "     <input type=\"file\" id=\"files-1fc98831-dee0-4d3e-b32d-726670236bb2\" name=\"files[]\" multiple disabled\n",
              "        style=\"border:none\" />\n",
              "     <output id=\"result-1fc98831-dee0-4d3e-b32d-726670236bb2\">\n",
              "      Upload widget is only available when the cell has been executed in the\n",
              "      current browser session. Please rerun this cell to enable.\n",
              "      </output>\n",
              "      <script>// Copyright 2017 Google LLC\n",
              "//\n",
              "// Licensed under the Apache License, Version 2.0 (the \"License\");\n",
              "// you may not use this file except in compliance with the License.\n",
              "// You may obtain a copy of the License at\n",
              "//\n",
              "//      http://www.apache.org/licenses/LICENSE-2.0\n",
              "//\n",
              "// Unless required by applicable law or agreed to in writing, software\n",
              "// distributed under the License is distributed on an \"AS IS\" BASIS,\n",
              "// WITHOUT WARRANTIES OR CONDITIONS OF ANY KIND, either express or implied.\n",
              "// See the License for the specific language governing permissions and\n",
              "// limitations under the License.\n",
              "\n",
              "/**\n",
              " * @fileoverview Helpers for google.colab Python module.\n",
              " */\n",
              "(function(scope) {\n",
              "function span(text, styleAttributes = {}) {\n",
              "  const element = document.createElement('span');\n",
              "  element.textContent = text;\n",
              "  for (const key of Object.keys(styleAttributes)) {\n",
              "    element.style[key] = styleAttributes[key];\n",
              "  }\n",
              "  return element;\n",
              "}\n",
              "\n",
              "// Max number of bytes which will be uploaded at a time.\n",
              "const MAX_PAYLOAD_SIZE = 100 * 1024;\n",
              "\n",
              "function _uploadFiles(inputId, outputId) {\n",
              "  const steps = uploadFilesStep(inputId, outputId);\n",
              "  const outputElement = document.getElementById(outputId);\n",
              "  // Cache steps on the outputElement to make it available for the next call\n",
              "  // to uploadFilesContinue from Python.\n",
              "  outputElement.steps = steps;\n",
              "\n",
              "  return _uploadFilesContinue(outputId);\n",
              "}\n",
              "\n",
              "// This is roughly an async generator (not supported in the browser yet),\n",
              "// where there are multiple asynchronous steps and the Python side is going\n",
              "// to poll for completion of each step.\n",
              "// This uses a Promise to block the python side on completion of each step,\n",
              "// then passes the result of the previous step as the input to the next step.\n",
              "function _uploadFilesContinue(outputId) {\n",
              "  const outputElement = document.getElementById(outputId);\n",
              "  const steps = outputElement.steps;\n",
              "\n",
              "  const next = steps.next(outputElement.lastPromiseValue);\n",
              "  return Promise.resolve(next.value.promise).then((value) => {\n",
              "    // Cache the last promise value to make it available to the next\n",
              "    // step of the generator.\n",
              "    outputElement.lastPromiseValue = value;\n",
              "    return next.value.response;\n",
              "  });\n",
              "}\n",
              "\n",
              "/**\n",
              " * Generator function which is called between each async step of the upload\n",
              " * process.\n",
              " * @param {string} inputId Element ID of the input file picker element.\n",
              " * @param {string} outputId Element ID of the output display.\n",
              " * @return {!Iterable<!Object>} Iterable of next steps.\n",
              " */\n",
              "function* uploadFilesStep(inputId, outputId) {\n",
              "  const inputElement = document.getElementById(inputId);\n",
              "  inputElement.disabled = false;\n",
              "\n",
              "  const outputElement = document.getElementById(outputId);\n",
              "  outputElement.innerHTML = '';\n",
              "\n",
              "  const pickedPromise = new Promise((resolve) => {\n",
              "    inputElement.addEventListener('change', (e) => {\n",
              "      resolve(e.target.files);\n",
              "    });\n",
              "  });\n",
              "\n",
              "  const cancel = document.createElement('button');\n",
              "  inputElement.parentElement.appendChild(cancel);\n",
              "  cancel.textContent = 'Cancel upload';\n",
              "  const cancelPromise = new Promise((resolve) => {\n",
              "    cancel.onclick = () => {\n",
              "      resolve(null);\n",
              "    };\n",
              "  });\n",
              "\n",
              "  // Wait for the user to pick the files.\n",
              "  const files = yield {\n",
              "    promise: Promise.race([pickedPromise, cancelPromise]),\n",
              "    response: {\n",
              "      action: 'starting',\n",
              "    }\n",
              "  };\n",
              "\n",
              "  cancel.remove();\n",
              "\n",
              "  // Disable the input element since further picks are not allowed.\n",
              "  inputElement.disabled = true;\n",
              "\n",
              "  if (!files) {\n",
              "    return {\n",
              "      response: {\n",
              "        action: 'complete',\n",
              "      }\n",
              "    };\n",
              "  }\n",
              "\n",
              "  for (const file of files) {\n",
              "    const li = document.createElement('li');\n",
              "    li.append(span(file.name, {fontWeight: 'bold'}));\n",
              "    li.append(span(\n",
              "        `(${file.type || 'n/a'}) - ${file.size} bytes, ` +\n",
              "        `last modified: ${\n",
              "            file.lastModifiedDate ? file.lastModifiedDate.toLocaleDateString() :\n",
              "                                    'n/a'} - `));\n",
              "    const percent = span('0% done');\n",
              "    li.appendChild(percent);\n",
              "\n",
              "    outputElement.appendChild(li);\n",
              "\n",
              "    const fileDataPromise = new Promise((resolve) => {\n",
              "      const reader = new FileReader();\n",
              "      reader.onload = (e) => {\n",
              "        resolve(e.target.result);\n",
              "      };\n",
              "      reader.readAsArrayBuffer(file);\n",
              "    });\n",
              "    // Wait for the data to be ready.\n",
              "    let fileData = yield {\n",
              "      promise: fileDataPromise,\n",
              "      response: {\n",
              "        action: 'continue',\n",
              "      }\n",
              "    };\n",
              "\n",
              "    // Use a chunked sending to avoid message size limits. See b/62115660.\n",
              "    let position = 0;\n",
              "    do {\n",
              "      const length = Math.min(fileData.byteLength - position, MAX_PAYLOAD_SIZE);\n",
              "      const chunk = new Uint8Array(fileData, position, length);\n",
              "      position += length;\n",
              "\n",
              "      const base64 = btoa(String.fromCharCode.apply(null, chunk));\n",
              "      yield {\n",
              "        response: {\n",
              "          action: 'append',\n",
              "          file: file.name,\n",
              "          data: base64,\n",
              "        },\n",
              "      };\n",
              "\n",
              "      let percentDone = fileData.byteLength === 0 ?\n",
              "          100 :\n",
              "          Math.round((position / fileData.byteLength) * 100);\n",
              "      percent.textContent = `${percentDone}% done`;\n",
              "\n",
              "    } while (position < fileData.byteLength);\n",
              "  }\n",
              "\n",
              "  // All done.\n",
              "  yield {\n",
              "    response: {\n",
              "      action: 'complete',\n",
              "    }\n",
              "  };\n",
              "}\n",
              "\n",
              "scope.google = scope.google || {};\n",
              "scope.google.colab = scope.google.colab || {};\n",
              "scope.google.colab._files = {\n",
              "  _uploadFiles,\n",
              "  _uploadFilesContinue,\n",
              "};\n",
              "})(self);\n",
              "</script> "
            ]
          },
          "metadata": {}
        },
        {
          "output_type": "stream",
          "name": "stdout",
          "text": [
            "Saving kaggle.json to kaggle.json\n",
            "ref                                                             title                                               size  lastUpdated          downloadCount  voteCount  usabilityRating  \n",
            "--------------------------------------------------------------  -------------------------------------------------  -----  -------------------  -------------  ---------  ---------------  \n",
            "shreyanshverma27/online-sales-dataset-popular-marketplace-data  Online Sales Dataset - Popular Marketplace Data      7KB  2024-05-25 23:55:26           3185         60  1.0              \n",
            "devarajv88/walmart-sales-dataset                                e-Commerce (Walmart) Sales Dataset                   5MB  2024-05-30 12:09:55           2018         33  1.0              \n",
            "ayushparwal2026/country-population-from-1960-to-2022            Country Population from 1960 to 2022                75KB  2024-05-31 08:58:26           1526         39  0.9411765        \n",
            "mayankanand2701/apple-stock-price-dataset                       Apple Stock Price Dataset 🔥📱💻🎧📊                    218KB  2024-05-28 11:56:52           1019         35  1.0              \n",
            "saurabhbadole/restaurant-tips-dataset                           Restaurant Tips Dataset                              2KB  2024-06-03 14:26:13            487         34  1.0              \n",
            "kanchana1990/vehicle-dataset-2024                               Vehicle Dataset 2024                               308KB  2024-05-29 20:02:30           1493         36  1.0              \n",
            "sahirmaharajj/school-program-attendance                         School Program Attendance                           56KB  2024-05-25 14:40:00            755         26  1.0              \n",
            "jainaru/thyroid-disease-data                                    Thyroid Disease Data                                 3KB  2024-05-10 12:06:31           4896         98  1.0              \n",
            "dem0nking/billboard-hits-songs-dataset                          Billboard Hits Songs Dataset                         3KB  2024-05-24 09:40:53            839         29  1.0              \n",
            "zeesolver/spotfy                                                Spotify Songs Album                                 47KB  2024-05-10 09:21:57           3742         57  1.0              \n",
            "rahulvyasm/netflix-movies-and-tv-shows                          Netflix Movies and TV Shows                          1MB  2024-04-10 09:48:38          27915        586  1.0              \n",
            "emirhanai/social-media-usage-and-emotional-well-being           Social Media Usage and Emotional Well-Being          8KB  2024-05-19 18:25:52           3344         52  1.0              \n",
            "rohit265/credit-card-eligibility-data-determining-factors       Credit Card Eligibility Data: Determining Factors  296KB  2024-05-18 11:31:28           2278         37  1.0              \n",
            "amanbarthwal/steam-store-data                                   Steam Store Data                                     6MB  2024-05-25 06:23:06           1128         32  1.0              \n",
            "khushikhushikhushi/amazon-bestselling-books                     Amazon Bestselling Books                             4KB  2024-05-23 13:59:52           1488         38  1.0              \n",
            "naserabdullahalam/phishing-email-dataset                        Phishing Email Dataset                              77MB  2024-05-24 03:47:20            698         25  1.0              \n",
            "dem0nking/mobile-games-android-and-ios-rating-dataset           Mobile Games (Android and IOS) Rating Dataset        2KB  2024-05-25 13:26:55           1105         37  1.0              \n",
            "mattop/predict-students-dropout-and-academic-success            Predict Students' Dropout and Academic Success     104KB  2024-06-01 04:16:20            886         31  0.7647059        \n",
            "prasad22/weather-data                                           Weather Data                                        43MB  2024-05-18 14:27:35           2582         58  1.0              \n",
            "jainaru/parkinson-disease-detection                             Parkinson Disease Detection                         16KB  2024-05-27 15:51:16            989         33  1.0              \n",
            "Dataset URL: https://www.kaggle.com/datasets/sshikamaru/fruit-recognition\n",
            "License(s): other\n",
            "Downloading fruit-recognition.zip to /content\n",
            "100% 102M/102M [00:07<00:00, 22.8MB/s] \n",
            "100% 102M/102M [00:07<00:00, 14.3MB/s]\n"
          ]
        }
      ]
    },
    {
      "cell_type": "code",
      "metadata": {
        "id": "d3QGXqnTaZht"
      },
      "source": [
        "# ekstrak file zip\n",
        "import os\n",
        "import zipfile\n",
        "fz = '/content/fruit-recognition.zip'\n",
        "ekstrak = zipfile.ZipFile(fz, 'r')\n",
        "ekstrak.extractall('/content')\n",
        "\n",
        "!rm -rf /content/test/\n",
        "path = '/content/train/train'"
      ],
      "execution_count": null,
      "outputs": []
    },
    {
      "cell_type": "code",
      "metadata": {
        "id": "vVyij_5uo4wV",
        "colab": {
          "base_uri": "https://localhost:8080/"
        },
        "outputId": "70c3dd62-5dba-4d4e-be0d-4b73401549ad"
      },
      "source": [
        "!pip install split-folders\n"
      ],
      "execution_count": null,
      "outputs": [
        {
          "output_type": "stream",
          "name": "stdout",
          "text": [
            "Collecting split-folders\n",
            "  Downloading split_folders-0.5.1-py3-none-any.whl (8.4 kB)\n",
            "Installing collected packages: split-folders\n",
            "Successfully installed split-folders-0.5.1\n"
          ]
        }
      ]
    },
    {
      "cell_type": "code",
      "metadata": {
        "id": "pQ_moMSwpeM4",
        "colab": {
          "base_uri": "https://localhost:8080/"
        },
        "outputId": "ad78ec0c-59c3-465b-b509-8620cdac7dd5"
      },
      "source": [
        "# menggunakan split_folders untuk memisahkan train sama validasi\n",
        "import splitfolders\n",
        "splitfolders.ratio(path,\n",
        "                   output='/content/dataset',\n",
        "                   seed=13,\n",
        "                   ratio=(.8, .2))"
      ],
      "execution_count": null,
      "outputs": [
        {
          "output_type": "stream",
          "name": "stderr",
          "text": [
            "Copying files: 16854 files [00:02, 7282.74 files/s]\n"
          ]
        }
      ]
    },
    {
      "cell_type": "code",
      "metadata": {
        "id": "8hFNxYlllvkV"
      },
      "source": [
        "# mendefinisikan path dataset\n",
        "main_dir = '/content/dataset'\n",
        "tr = os.path.join(main_dir, 'train')\n",
        "va = os.path.join(main_dir, 'val')\n",
        "\n",
        "# join path nya train\n",
        "applebraeburn_tr = os.path.join(tr, 'Apple Braeburn')\n",
        "applegrannysmith_tr = os.path.join(tr, 'Apple Granny Smith')\n",
        "apricot_tr = os.path.join(tr, 'Apricot')\n",
        "avocado_tr = os.path.join(tr, 'Avocado')\n",
        "banana_tr = os.path.join(tr, 'Banana')\n",
        "blueberry_tr = os.path.join(tr, 'Blueberry')\n",
        "cactusfruit_tr = os.path.join(tr, 'Cactus fruit')\n",
        "cantaloupe_tr = os.path.join(tr, 'Cantaloupe')\n",
        "cherry_tr = os.path.join(tr, 'Cherry')\n",
        "celementine_tr = os.path.join(tr, 'Clementine')\n",
        "corn_tr = os.path.join(tr, 'Corn')\n",
        "cucumberripe_tr = os.path.join(tr, 'Cucumber Ripe')\n",
        "grapeblue_tr = os.path.join(tr, 'Grape Blue')\n",
        "kiwi_tr = os.path.join(tr, 'Kiwi')\n",
        "lemon_tr = os.path.join(tr, 'Lemon')\n",
        "limes_tr = os.path.join(tr, 'Limes')\n",
        "manggo_tr = os.path.join(tr, 'Manggo')\n",
        "onionwhite_tr = os.path.join(tr, 'Onion White')\n",
        "orange_tr = os.path.join(tr, 'Orange')\n",
        "papaya_tr = os.path.join(tr, 'Papaya')\n",
        "passionfruit_tr = os.path.join(tr, 'Passion Fruit')\n",
        "peach_tr = os.path.join(tr, 'Peach')\n",
        "pear_tr = os.path.join(tr, 'Pear')\n",
        "peppergreen_tr = os.path.join(tr, 'Pepper Green')\n",
        "pepperred_tr = os.path.join(tr, 'Pepper Red')\n",
        "pineapple_tr = os.path.join(tr, 'Pineapple')\n",
        "plum_tr = os.path.join(tr, 'Plum')\n",
        "pomegranate_tr = os.path.join(tr, 'Pomegranate')\n",
        "potato_tr = os.path.join(tr, 'Potato Red')\n",
        "raspberry_tr = os.path.join(tr, 'Raspberry')\n",
        "strawberry_tr = os.path.join(tr, 'Strawberry')\n",
        "tomato_tr = os.path.join(tr, 'Tomato')\n",
        "watermelon_tr = os.path.join(tr, 'Watermelon')\n",
        "\n",
        "# join path nya val\n",
        "applebraeburn_va = os.path.join(va, 'Apple Braeburn')\n",
        "applegrannysmith_va = os.path.join(va, 'Apple Granny Smith')\n",
        "apricot_va = os.path.join(va, 'Apricot')\n",
        "avocado_va = os.path.join(va, 'Avocado')\n",
        "banana_va = os.path.join(va, 'Banana')\n",
        "blueberry_va = os.path.join(va, 'Blueberry')\n",
        "cactusfruit_va = os.path.join(va, 'Cactus fruit')\n",
        "cantaloupe_va = os.path.join(va, 'Cantaloupe')\n",
        "cherry_va = os.path.join(va, 'Cherry')\n",
        "celementine_va = os.path.join(va, 'Clementine')\n",
        "corn_va = os.path.join(va, 'Corn')\n",
        "cucumberripe_va = os.path.join(va, 'Cucumber Ripe')\n",
        "grapeblue_va = os.path.join(va, 'Grape Blue')\n",
        "kiwi_va = os.path.join(va, 'Kiwi')\n",
        "lemon_va = os.path.join(va, 'Lemon')\n",
        "limes_va = os.path.join(va, 'Limes')\n",
        "manggo_va = os.path.join(va, 'Manggo')\n",
        "onionwhite_va = os.path.join(va, 'Onion White')\n",
        "orange_va = os.path.join(va, 'Orange')\n",
        "papaya_va = os.path.join(va, 'Papaya')\n",
        "passionfruit_va = os.path.join(va, 'Passion Fruit')\n",
        "peach_va = os.path.join(va, 'Peach')\n",
        "pear_va = os.path.join(va, 'Pear')\n",
        "peppergreen_va = os.path.join(va, 'Pepper Green')\n",
        "pepperred_va = os.path.join(va, 'Pepper Red')\n",
        "pineapple_va = os.path.join(va, 'Pineapple')\n",
        "plum_va = os.path.join(va, 'Plum')\n",
        "pomegranate_va = os.path.join(va, 'Pomegranate')\n",
        "potato_va = os.path.join(va, 'Potato Red')\n",
        "raspberry_va = os.path.join(va, 'Raspberry')\n",
        "strawberry_va = os.path.join(va, 'Strawberry')\n",
        "tomato_va = os.path.join(va, 'Tomato')\n",
        "watermelon_va = os.path.join(va, 'Watermelon')"
      ],
      "execution_count": null,
      "outputs": []
    },
    {
      "cell_type": "code",
      "metadata": {
        "id": "2mdn-fXVEB17",
        "colab": {
          "base_uri": "https://localhost:8080/"
        },
        "outputId": "9f3da512-95a6-47f9-f3fc-a318934af769"
      },
      "source": [
        "# import library\n",
        "import tensorflow as tf\n",
        "from tensorflow.keras.optimizers import RMSprop\n",
        "from tensorflow.keras.preprocessing.image import ImageDataGenerator\n",
        "\n",
        "tr_idg = ImageDataGenerator(\n",
        "    rescale=1./255,\n",
        "    rotation_range=20,\n",
        "    zoom_range=0.2,\n",
        "    horizontal_flip=True,\n",
        "    fill_mode='nearest',\n",
        "    shear_range=0.2\n",
        "    )\n",
        "va_igd = ImageDataGenerator(\n",
        "    rescale=1./255,\n",
        "    rotation_range=20,\n",
        "    fill_mode='nearest',\n",
        "    shear_range=0.2,\n",
        "    zoom_range=0.2,\n",
        "    horizontal_flip=True\n",
        "    )\n",
        "\n",
        "tr_generator = tr_idg.flow_from_directory(\n",
        "    tr,\n",
        "    target_size=(150, 150),\n",
        "    batch_size=4,\n",
        "    class_mode='categorical',\n",
        "    shuffle=True\n",
        ")\n",
        "\n",
        "va_generator = va_igd.flow_from_directory(\n",
        "    va,\n",
        "    target_size=(150, 150),\n",
        "    batch_size=4,\n",
        "    class_mode='categorical',\n",
        "    shuffle=True\n",
        ")"
      ],
      "execution_count": null,
      "outputs": [
        {
          "output_type": "stream",
          "name": "stdout",
          "text": [
            "Found 13471 images belonging to 33 classes.\n",
            "Found 3383 images belonging to 33 classes.\n"
          ]
        }
      ]
    },
    {
      "cell_type": "code",
      "metadata": {
        "id": "4i-jAc4zExcF",
        "colab": {
          "base_uri": "https://localhost:8080/"
        },
        "outputId": "f33a6d8b-73cc-44ae-aa42-36cae4f6b865"
      },
      "source": [
        "model = tf.keras.models.Sequential([\n",
        "    tf.keras.layers.Conv2D(32, (3,3), activation='relu', input_shape=(150, 150, 3)),\n",
        "    tf.keras.layers.MaxPooling2D(),\n",
        "    tf.keras.layers.Dropout(0.2), ### added\n",
        "    tf.keras.layers.Conv2D(64, (3,3), activation='relu'),\n",
        "    tf.keras.layers.MaxPooling2D(),\n",
        "    tf.keras.layers.Conv2D(128, (3,3), activation='relu'),\n",
        "    tf.keras.layers.MaxPooling2D(),\n",
        "    tf.keras.layers.Conv2D(256, (3,3), activation='relu'),\n",
        "    tf.keras.layers.MaxPooling2D(),\n",
        "    tf.keras.layers.Dropout(0.2),### added\n",
        "    tf.keras.layers.Flatten(),\n",
        "    tf.keras.layers.Dense(512, activation='relu'),\n",
        "    tf.keras.layers.Dense(33, activation='softmax')\n",
        "])\n",
        "\n",
        "model.compile(loss='categorical_crossentropy',\n",
        "              optimizer=tf.optimizers.Adam(),\n",
        "              metrics=['accuracy'])\n",
        "\n",
        "model.summary()"
      ],
      "execution_count": null,
      "outputs": [
        {
          "output_type": "stream",
          "name": "stdout",
          "text": [
            "Model: \"sequential\"\n",
            "_________________________________________________________________\n",
            " Layer (type)                Output Shape              Param #   \n",
            "=================================================================\n",
            " conv2d (Conv2D)             (None, 148, 148, 32)      896       \n",
            "                                                                 \n",
            " max_pooling2d (MaxPooling2  (None, 74, 74, 32)        0         \n",
            " D)                                                              \n",
            "                                                                 \n",
            " dropout (Dropout)           (None, 74, 74, 32)        0         \n",
            "                                                                 \n",
            " conv2d_1 (Conv2D)           (None, 72, 72, 64)        18496     \n",
            "                                                                 \n",
            " max_pooling2d_1 (MaxPoolin  (None, 36, 36, 64)        0         \n",
            " g2D)                                                            \n",
            "                                                                 \n",
            " conv2d_2 (Conv2D)           (None, 34, 34, 128)       73856     \n",
            "                                                                 \n",
            " max_pooling2d_2 (MaxPoolin  (None, 17, 17, 128)       0         \n",
            " g2D)                                                            \n",
            "                                                                 \n",
            " conv2d_3 (Conv2D)           (None, 15, 15, 256)       295168    \n",
            "                                                                 \n",
            " max_pooling2d_3 (MaxPoolin  (None, 7, 7, 256)         0         \n",
            " g2D)                                                            \n",
            "                                                                 \n",
            " dropout_1 (Dropout)         (None, 7, 7, 256)         0         \n",
            "                                                                 \n",
            " flatten (Flatten)           (None, 12544)             0         \n",
            "                                                                 \n",
            " dense (Dense)               (None, 512)               6423040   \n",
            "                                                                 \n",
            " dense_1 (Dense)             (None, 33)                16929     \n",
            "                                                                 \n",
            "=================================================================\n",
            "Total params: 6828385 (26.05 MB)\n",
            "Trainable params: 6828385 (26.05 MB)\n",
            "Non-trainable params: 0 (0.00 Byte)\n",
            "_________________________________________________________________\n"
          ]
        }
      ]
    },
    {
      "cell_type": "code",
      "metadata": {
        "id": "FX8Cf8PWH_b8",
        "colab": {
          "base_uri": "https://localhost:8080/"
        },
        "outputId": "9ccbf64a-e606-45cc-e0f9-ec90d89d327f"
      },
      "source": [
        "import tensorflow as tf\n",
        "\n",
        "class myCallback(tf.keras.callbacks.Callback):\n",
        "  def on_epoch_end(self, epoch, logs={}):\n",
        "    if(logs.get('accuracy')>0.92):\n",
        "      print(\"\\nAkurasi telah mencapai >92%!\")\n",
        "      self.model.stop_training = True\n",
        "callbacks = myCallback()\n",
        "\n",
        "history = model.fit(\n",
        "    tr_generator,\n",
        "    steps_per_epoch=35,\n",
        "    epochs=100,\n",
        "    validation_data=va_generator,\n",
        "    validation_steps=5,\n",
        "    verbose=2,\n",
        "    callbacks=[callbacks])"
      ],
      "execution_count": null,
      "outputs": [
        {
          "output_type": "stream",
          "name": "stdout",
          "text": [
            "Epoch 1/100\n",
            "35/35 - 9s - loss: 3.5121 - accuracy: 0.0357 - val_loss: 3.4873 - val_accuracy: 0.0000e+00 - 9s/epoch - 247ms/step\n",
            "Epoch 2/100\n",
            "35/35 - 1s - loss: 3.4516 - accuracy: 0.0714 - val_loss: 3.4339 - val_accuracy: 0.0000e+00 - 1s/epoch - 35ms/step\n",
            "Epoch 3/100\n",
            "35/35 - 1s - loss: 3.1360 - accuracy: 0.1143 - val_loss: 3.1843 - val_accuracy: 0.2000 - 1s/epoch - 35ms/step\n",
            "Epoch 4/100\n",
            "35/35 - 1s - loss: 3.0291 - accuracy: 0.1214 - val_loss: 2.5403 - val_accuracy: 0.2000 - 1s/epoch - 39ms/step\n",
            "Epoch 5/100\n",
            "35/35 - 1s - loss: 2.7753 - accuracy: 0.1571 - val_loss: 2.2495 - val_accuracy: 0.2000 - 1s/epoch - 35ms/step\n",
            "Epoch 6/100\n",
            "35/35 - 1s - loss: 2.3985 - accuracy: 0.2643 - val_loss: 2.5411 - val_accuracy: 0.2000 - 1s/epoch - 34ms/step\n",
            "Epoch 7/100\n",
            "35/35 - 1s - loss: 2.0488 - accuracy: 0.2714 - val_loss: 1.8773 - val_accuracy: 0.5000 - 1s/epoch - 35ms/step\n",
            "Epoch 8/100\n",
            "35/35 - 1s - loss: 1.7452 - accuracy: 0.4286 - val_loss: 1.2906 - val_accuracy: 0.6500 - 1s/epoch - 35ms/step\n",
            "Epoch 9/100\n",
            "35/35 - 1s - loss: 1.6689 - accuracy: 0.4500 - val_loss: 1.7057 - val_accuracy: 0.3000 - 1s/epoch - 35ms/step\n",
            "Epoch 10/100\n",
            "35/35 - 1s - loss: 1.5689 - accuracy: 0.4429 - val_loss: 2.0788 - val_accuracy: 0.3500 - 1s/epoch - 34ms/step\n",
            "Epoch 11/100\n",
            "35/35 - 1s - loss: 1.6453 - accuracy: 0.4929 - val_loss: 1.4764 - val_accuracy: 0.6000 - 1s/epoch - 35ms/step\n",
            "Epoch 12/100\n",
            "35/35 - 1s - loss: 1.3534 - accuracy: 0.5500 - val_loss: 1.5356 - val_accuracy: 0.5000 - 1s/epoch - 35ms/step\n",
            "Epoch 13/100\n",
            "35/35 - 2s - loss: 0.9808 - accuracy: 0.6500 - val_loss: 0.7397 - val_accuracy: 0.8500 - 2s/epoch - 54ms/step\n",
            "Epoch 14/100\n",
            "35/35 - 2s - loss: 1.0093 - accuracy: 0.6571 - val_loss: 0.4677 - val_accuracy: 0.8000 - 2s/epoch - 49ms/step\n",
            "Epoch 15/100\n",
            "35/35 - 1s - loss: 0.9502 - accuracy: 0.6214 - val_loss: 1.2183 - val_accuracy: 0.5500 - 1s/epoch - 35ms/step\n",
            "Epoch 16/100\n",
            "35/35 - 1s - loss: 1.0087 - accuracy: 0.6643 - val_loss: 1.4688 - val_accuracy: 0.4500 - 1s/epoch - 35ms/step\n",
            "Epoch 17/100\n",
            "35/35 - 1s - loss: 0.9373 - accuracy: 0.6643 - val_loss: 1.2966 - val_accuracy: 0.4500 - 1s/epoch - 32ms/step\n",
            "Epoch 18/100\n",
            "35/35 - 1s - loss: 0.9145 - accuracy: 0.6929 - val_loss: 0.9007 - val_accuracy: 0.7500 - 1s/epoch - 31ms/step\n",
            "Epoch 19/100\n",
            "35/35 - 1s - loss: 0.9196 - accuracy: 0.6571 - val_loss: 0.8049 - val_accuracy: 0.8000 - 1s/epoch - 31ms/step\n",
            "Epoch 20/100\n",
            "35/35 - 1s - loss: 0.8813 - accuracy: 0.6500 - val_loss: 1.3843 - val_accuracy: 0.6000 - 1s/epoch - 35ms/step\n",
            "Epoch 21/100\n",
            "35/35 - 1s - loss: 0.9286 - accuracy: 0.6929 - val_loss: 0.6528 - val_accuracy: 0.7500 - 1s/epoch - 35ms/step\n",
            "Epoch 22/100\n",
            "35/35 - 1s - loss: 0.7433 - accuracy: 0.7571 - val_loss: 1.0086 - val_accuracy: 0.6000 - 1s/epoch - 34ms/step\n",
            "Epoch 23/100\n",
            "35/35 - 2s - loss: 0.8327 - accuracy: 0.6786 - val_loss: 0.6373 - val_accuracy: 0.7500 - 2s/epoch - 56ms/step\n",
            "Epoch 24/100\n",
            "35/35 - 1s - loss: 1.1240 - accuracy: 0.6214 - val_loss: 0.7168 - val_accuracy: 0.7500 - 1s/epoch - 31ms/step\n",
            "Epoch 25/100\n",
            "35/35 - 1s - loss: 0.5518 - accuracy: 0.8143 - val_loss: 0.7935 - val_accuracy: 0.7500 - 1s/epoch - 36ms/step\n",
            "Epoch 26/100\n",
            "35/35 - 1s - loss: 0.7614 - accuracy: 0.7571 - val_loss: 0.4652 - val_accuracy: 0.9000 - 1s/epoch - 32ms/step\n",
            "Epoch 27/100\n",
            "35/35 - 1s - loss: 0.8839 - accuracy: 0.7000 - val_loss: 0.7588 - val_accuracy: 0.7000 - 1s/epoch - 31ms/step\n",
            "Epoch 28/100\n",
            "35/35 - 1s - loss: 0.6752 - accuracy: 0.7571 - val_loss: 0.4399 - val_accuracy: 0.8000 - 1s/epoch - 35ms/step\n",
            "Epoch 29/100\n",
            "35/35 - 1s - loss: 0.4388 - accuracy: 0.8143 - val_loss: 0.6772 - val_accuracy: 0.8000 - 1s/epoch - 31ms/step\n",
            "Epoch 30/100\n",
            "35/35 - 1s - loss: 0.3479 - accuracy: 0.8571 - val_loss: 0.4177 - val_accuracy: 0.8000 - 1s/epoch - 35ms/step\n",
            "Epoch 31/100\n",
            "35/35 - 1s - loss: 0.7627 - accuracy: 0.7714 - val_loss: 0.8138 - val_accuracy: 0.8000 - 1s/epoch - 35ms/step\n",
            "Epoch 32/100\n",
            "35/35 - 2s - loss: 0.6791 - accuracy: 0.7643 - val_loss: 0.6433 - val_accuracy: 0.7500 - 2s/epoch - 55ms/step\n",
            "Epoch 33/100\n",
            "35/35 - 1s - loss: 0.4367 - accuracy: 0.8786 - val_loss: 0.5197 - val_accuracy: 0.8500 - 1s/epoch - 35ms/step\n",
            "Epoch 34/100\n",
            "35/35 - 1s - loss: 0.5612 - accuracy: 0.8143 - val_loss: 0.5434 - val_accuracy: 0.8000 - 1s/epoch - 35ms/step\n",
            "Epoch 35/100\n",
            "35/35 - 1s - loss: 0.5820 - accuracy: 0.8000 - val_loss: 0.4127 - val_accuracy: 0.7500 - 1s/epoch - 36ms/step\n",
            "Epoch 36/100\n",
            "35/35 - 1s - loss: 0.4487 - accuracy: 0.8286 - val_loss: 0.9343 - val_accuracy: 0.7000 - 1s/epoch - 35ms/step\n",
            "Epoch 37/100\n",
            "35/35 - 1s - loss: 0.4856 - accuracy: 0.8429 - val_loss: 0.2229 - val_accuracy: 0.9500 - 1s/epoch - 34ms/step\n",
            "Epoch 38/100\n",
            "35/35 - 1s - loss: 0.4370 - accuracy: 0.8429 - val_loss: 0.2274 - val_accuracy: 0.9000 - 1s/epoch - 31ms/step\n",
            "Epoch 39/100\n",
            "35/35 - 1s - loss: 0.5060 - accuracy: 0.8143 - val_loss: 0.4280 - val_accuracy: 0.8500 - 1s/epoch - 35ms/step\n",
            "Epoch 40/100\n",
            "35/35 - 1s - loss: 0.3846 - accuracy: 0.8500 - val_loss: 0.4540 - val_accuracy: 0.9000 - 1s/epoch - 35ms/step\n",
            "Epoch 41/100\n",
            "35/35 - 2s - loss: 0.4745 - accuracy: 0.8357 - val_loss: 0.4183 - val_accuracy: 0.8500 - 2s/epoch - 56ms/step\n",
            "Epoch 42/100\n",
            "35/35 - 1s - loss: 0.2671 - accuracy: 0.9071 - val_loss: 0.4196 - val_accuracy: 0.8000 - 1s/epoch - 31ms/step\n",
            "Epoch 43/100\n",
            "\n",
            "Akurasi telah mencapai >92%!\n",
            "35/35 - 1s - loss: 0.3082 - accuracy: 0.9214 - val_loss: 0.1481 - val_accuracy: 0.9500 - 1s/epoch - 36ms/step\n"
          ]
        }
      ]
    },
    {
      "cell_type": "code",
      "metadata": {
        "id": "AXtrfvq8YGS_",
        "colab": {
          "base_uri": "https://localhost:8080/",
          "height": 472
        },
        "outputId": "4885f36c-2504-4baa-e67a-eb1ec0f9afa0"
      },
      "source": [
        "# liat grafik akurasi\n",
        "import matplotlib.pyplot as plt\n",
        "plt.plot(history.history['accuracy'], label='Training Accuracy')\n",
        "plt.plot(history.history['val_accuracy'], label='Validasion Accuracy')\n",
        "plt.title('Model accuracy')\n",
        "plt.ylabel('accuracy')\n",
        "plt.xlabel('Epoch')\n",
        "plt.legend(loc='lower right')\n",
        "plt.show()"
      ],
      "execution_count": null,
      "outputs": [
        {
          "output_type": "display_data",
          "data": {
            "text/plain": [
              "<Figure size 640x480 with 1 Axes>"
            ],
            "image/png": "[encoded data removed]"
          },
          "metadata": {}
        }
      ]
    },
    {
      "cell_type": "code",
      "metadata": {
        "id": "SEWRDavHZFjP",
        "colab": {
          "base_uri": "https://localhost:8080/"
        },
        "outputId": "e9e9bf1d-4e2f-4a6c-aa88-aa1ec681863d"
      },
      "source": [
        "#liat versi tf\n",
        "print(tf.__version__)"
      ],
      "execution_count": null,
      "outputs": [
        {
          "output_type": "stream",
          "name": "stdout",
          "text": [
            "2.15.0\n"
          ]
        }
      ]
    },
    {
      "cell_type": "code",
      "metadata": {
        "id": "MLUszkQ4ch3j"
      },
      "source": [
        "model.save('/content/savemodel', include_optimizer=True)"
      ],
      "execution_count": null,
      "outputs": []
    },
    {
      "cell_type": "code",
      "metadata": {
        "id": "jg_PusjuepAC"
      },
      "source": [
        "# Convert the model\n",
        "saved_model_dir = '/content/savemodel'\n",
        "converter = tf.lite.TFLiteConverter.from_saved_model(saved_model_dir) # path to the SavedModel directory\n",
        "tflite_model = converter.convert()\n",
        "\n",
        "# Save the model.\n",
        "with open('model.tflite', 'wb') as f:\n",
        "  f.write(tflite_model)"
      ],
      "execution_count": null,
      "outputs": []
    },
    {
      "cell_type": "code",
      "source": [
        "import tensorflow as tf\n",
        "import numpy as np\n",
        "from tensorflow.keras.preprocessing.image import load_img, img_to_array\n",
        "\n",
        "# Load the TFLite model\n",
        "interpreter = tf.lite.Interpreter(model_path=\"model.tflite\")\n",
        "interpreter.allocate_tensors()\n",
        "\n",
        "# Get input and output tensors.\n",
        "input_details = interpreter.get_input_details()\n",
        "output_details = interpreter.get_output_details()\n",
        "\n",
        "# Load and preprocess the image\n",
        "image_path = '/content/dataset/train/Blueberry/Blueberry_0.jpg'\n",
        "image = load_img(image_path, target_size=(150, 150))  # Resize to the target size used during training\n",
        "img_array = img_to_array(image)\n",
        "img_array = img_array / 255.0  # Normalize the image\n",
        "img_array = np.expand_dims(img_array, axis=0)  # Add batch dimension\n",
        "img_array = img_array.astype(np.float32)  # Ensure the data type matches the model's input type\n",
        "\n",
        "# Set the input tensor\n",
        "interpreter.set_tensor(input_details[0]['index'], img_array)\n",
        "\n",
        "# Run inference\n",
        "interpreter.invoke()\n",
        "\n",
        "# Get the output tensor\n",
        "output_data = interpreter.get_tensor(output_details[0]['index'])\n",
        "\n",
        "# Post-process the output to get the predicted class\n",
        "predicted_class = np.argmax(output_data, axis=1)\n",
        "\n",
        "# Map the index to class names\n",
        "class_names = ['Apple Braeburn', 'Apple Granny Smith', 'Apricot', 'Avocado', 'Banana',\n",
        "               'Blueberry', 'Cactus fruit', 'Cantaloupe', 'Cherry', 'Clementine',\n",
        "               'Corn', 'Cucumber Ripe', 'Grape Blue', 'Kiwi', 'Lemon', 'Limes',\n",
        "               'Mango', 'Onion White', 'Orange', 'Papaya', 'Passion Fruit', 'Peach',\n",
        "               'Pear', 'Pepper Green', 'Pepper Red', 'Pineapple', 'Plum', 'Pomegranate',\n",
        "               'Potato Red', 'Raspberry', 'Strawberry', 'Tomato', 'Watermelon']\n",
        "\n",
        "print(f\"Predicted class: {class_names[predicted_class[0]]}\")\n"
      ],
      "metadata": {
        "id": "a9rUYRltxjen",
        "outputId": "81395330-e748-407b-d30b-5207fd97f800",
        "colab": {
          "base_uri": "https://localhost:8080/"
        }
      },
      "execution_count": null,
      "outputs": [
        {
          "output_type": "stream",
          "name": "stdout",
          "text": [
            "Predicted class: Blueberry\n"
          ]
        }
      ]
    },
    {
      "cell_type": "code",
      "source": [
        "# Run this to prevent runtime disconnect\n",
        "print(input('press enter to continue...'))"
      ],
      "metadata": {
        "colab": {
          "base_uri": "https://localhost:8080/"
        },
        "id": "GFSYXIOzcuf8",
        "outputId": "58548445-fbfd-441f-aeca-6cdb59a33fc2"
      },
      "execution_count": null,
      "outputs": [
        {
          "output_type": "stream",
          "name": "stdout",
          "text": [
            "press enter to continue...\n",
            "\n"
          ]
        }
      ]
    }
  ]
}